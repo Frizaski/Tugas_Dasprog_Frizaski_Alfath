{
 "cells": [
  {
   "cell_type": "code",
   "execution_count": null,
   "id": "f4d1854a-06c4-454d-892b-3591fd7af01d",
   "metadata": {},
   "outputs": [],
   "source": [
    "#J0403231081_Frizaski Al Fath\n",
    "def convert_temperature():\n",
    "    \"\"\"\n",
    "    Mengonversi nilai suhu dari satu skala ke skala lain.\n",
    "\n",
    "    Returns:\n",
    "    float: Nilai suhu yang telah dikonversi.\n",
    "\n",
    "    Raises:\n",
    "    ValueError: Jika skala yang diberikan tidak valid.\n",
    "\n",
    "    Contoh:\n",
    "    >>> convert_temperature()\n",
    "    Masukkan nilai suhu: 32\n",
    "    Masukkan skala ('C' untuk Celsius atau 'F' untuk Fahrenheit): F\n",
    "    Hasil konversi: 0.0\n",
    "    \"\"\"\n",
    "\n",
    "    try:\n",
    "        suhu = float(input(\"Masukkan nilai suhu: \"))\n",
    "        skala = input(\"Masukkan skala ('C' untuk Celsius atau 'F' untuk Fahrenheit): \").upper()\n",
    "\n",
    "        if skala not in ['C', 'F']:\n",
    "            raise ValueError(\"Skala tidak valid. Gunakan 'C' untuk Celsius atau 'F' untuk Fahrenheit.\")\n",
    "\n",
    "        if skala == 'C':\n",
    "            suhu_terkonversi = (suhu - 32) * 5/9\n",
    "        else:\n",
    "            suhu_terkonversi = (suhu * 9/5) + 32\n",
    "\n",
    "        print(f\"Hasil konversi: {suhu_terkonversi:.2f}\")\n",
    "    except ValueError:\n",
    "        print(\"Masukan tidak valid. Pastikan Anda memasukkan nilai suhu numerik dan skala yang valid.\")\n",
    "\n",
    "# Contoh penggunaan\n",
    "convert_temperature()\n"
   ]
  }
 ],
 "metadata": {
  "kernelspec": {
   "display_name": "Python 3 (ipykernel)",
   "language": "python",
   "name": "python3"
  },
  "language_info": {
   "codemirror_mode": {
    "name": "ipython",
    "version": 3
   },
   "file_extension": ".py",
   "mimetype": "text/x-python",
   "name": "python",
   "nbconvert_exporter": "python",
   "pygments_lexer": "ipython3",
   "version": "3.11.4"
  }
 },
 "nbformat": 4,
 "nbformat_minor": 5
}
