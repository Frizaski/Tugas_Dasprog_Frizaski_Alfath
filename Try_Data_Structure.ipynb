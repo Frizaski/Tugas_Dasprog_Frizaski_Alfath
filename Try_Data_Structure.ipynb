{
 "cells": [
  {
   "cell_type": "code",
   "execution_count": 26,
   "id": "b79d156b-3f71-438e-897b-35229bda46f6",
   "metadata": {},
   "outputs": [
    {
     "name": "stdout",
     "output_type": "stream",
     "text": [
      "Frizaski Al Fath : 16\n",
      "(1, 2, 3, 4, 5, 6)\n",
      "Hi, Hi, Hi, Hi, \n",
      "True\n",
      "\n",
      "1\n",
      "2\n",
      "3\n"
     ]
    }
   ],
   "source": [
    "#Frizaski Al Fath - J0403231081\n",
    "#TPL B-1\n",
    "#Basic List Operations\n",
    "\n",
    "#Length\n",
    "text = \"Frizaski Al Fath\"\n",
    "panjang = len(text)\n",
    "print(text, \":\", panjang)\n",
    "\n",
    "#Concatenation\n",
    "angka_1 = (1,2,3)\n",
    "angka_2 = (4,5,6)\n",
    "print(angka_1 + angka_2)\n",
    "\n",
    "#Repetition\n",
    "print(\"Hi, \"*4)\n",
    "\n",
    "#Membership\n",
    "print(3 in [1,2,3])\n",
    "\n",
    "#Iteration\n",
    "for x in [1,2,3]:\n",
    "    print(x)"
   ]
  },
  {
   "cell_type": "code",
   "execution_count": 61,
   "id": "f3a8c796-d196-435d-a105-184ef40d98d3",
   "metadata": {},
   "outputs": [
    {
     "name": "stdout",
     "output_type": "stream",
     "text": [
      "[1, 2, 3, 4, 5, 6, 7]\n",
      "[1, 2, 3, 4, 5, 6, 7, 8, 9, 10]\n",
      "[1, 2, 3, 11, 4, 5, 6, 7, 8, 9, 10]\n",
      "[2, 3, 11, 4, 5, 6, 7, 8, 9, 10]\n",
      "Popped element: 8\n",
      "[]\n",
      "index of 6:5\n",
      "index of 3:5\n",
      "[1, 2, 3, 4, 5, 6]\n",
      "[6, 5, 4, 3, 2, 1]\n",
      "[6, 5, 4, 3, 2, 1]\n",
      "length of the list: 6\n"
     ]
    }
   ],
   "source": [
    "#Built-in Methods\n",
    "\n",
    "my_list = [1,2,3,4,5,6]\n",
    "#append\n",
    "my_list.append(7)\n",
    "print(my_list)\n",
    "\n",
    "#extend\n",
    "my_list.extend([8,9,10])\n",
    "print(my_list)\n",
    "\n",
    "#insert\n",
    "my_list.insert(3,11)\n",
    "print(my_list)\n",
    "\n",
    "#remove\n",
    "my_list.remove(1)\n",
    "print(my_list)\n",
    "\n",
    "#pop\n",
    "popped_element = my_list.pop(7)\n",
    "print(f\"Popped element: {popped_element}\")\n",
    "\n",
    "#clear\n",
    "my_list.clear()\n",
    "print(my_list)\n",
    "\n",
    "#index(x[,start[,end]])\n",
    "my_list = [1,2,3,4,5,6]\n",
    "index = my_list.index(6)\n",
    "print(f\"index of 6:{index}\")\n",
    "\n",
    "#count(x)\n",
    "count = my_list.count(3)\n",
    "print(f\"index of 3:{index}\")\n",
    "\n",
    "#sort(key=None, reverse=False)\n",
    "my_list = [3,5,1,2,4,6]\n",
    "my_list.sort()\n",
    "print(my_list)\n",
    "\n",
    "#reverse()\n",
    "my_list.reverse()\n",
    "print(my_list)\n",
    "\n",
    "#copy()\n",
    "copy_of_list = my_list.copy()\n",
    "print(copy_of_list)\n",
    "\n",
    "#len(list)\n",
    "length = len(my_list)\n",
    "print(f\"length of the list: {length}\")"
   ]
  },
  {
   "cell_type": "code",
   "execution_count": 67,
   "id": "b1f854d5-fd59-4c25-99f0-fa4be29ad5ba",
   "metadata": {},
   "outputs": [
    {
     "name": "stdout",
     "output_type": "stream",
     "text": [
      "['alfath', 'farhan', 'hakkam']\n",
      "['alfath', 1, 2, 3, (1, 4), [6, 76, 8]]\n",
      "hakkam\n",
      "farhan\n",
      "list_1[2:5] = [3, 4.1, 'a']\n",
      "list_1[:] = [1, 2, 3, 4.1, 'a', 'FarhanKebab', 0.5]\n",
      "list_1[-5:-2] = [3, 4.1, 'a']\n",
      "list_1[3:] = [4.1, 'a', 'FarhanKebab', 0.5]\n",
      "list_1[-3:] = ['a', 'FarhanKebab', 0.5]\n",
      "list_1[:2] = [1, 2]\n",
      "list_1[:-2] = [1, 2, 3, 4.1, 'a']\n"
     ]
    }
   ],
   "source": [
    "#Creating python lists\n",
    "list1 = [\"alfath\",\"farhan\",\"hakkam\"]\n",
    "list2 = [\"alfath\",1,2,3,(1,4),[6,76,8]]\n",
    "print(list1)\n",
    "print(list2)\n",
    "\n",
    "#Accessing an element \n",
    "print(list1[2])\n",
    "print(list1[-2])\n",
    "\n",
    "#Slicing the list in python\n",
    "list_1=[1,2,3,4.1,'a',\"FarhanKebab\",0.5]\n",
    "print(\"list_1[2:5] =\",list_1[2:5]) \n",
    "print(\"list_1[:] =\",list_1[:]) \n",
    "print(\"list_1[-5:-2] =\",list_1[-5:-2]) \n",
    "print(\"list_1[3:] =\",list_1[3:]) \n",
    "print(\"list_1[-3:] =\",list_1[-3:]) \n",
    "print(\"list_1[:2] =\",list_1[:2]) \n",
    "print(\"list_1[:-2] =\",list_1[:-2])"
   ]
  },
  {
   "cell_type": "code",
   "execution_count": 69,
   "id": "1df6e5e0-fc2d-4c6b-b667-89f2a007db20",
   "metadata": {},
   "outputs": [
    {
     "name": "stdout",
     "output_type": "stream",
     "text": [
      "After modifying using indexing: [1, 2, 10, 4, 5, 6]\n",
      "After modifying using slicing: [1, 20, 30, 40, 5, 6]\n",
      "After deleting using indexing: [1, 20, 40, 5, 6]\n",
      "After deleting using slicing: [1, 6]\n"
     ]
    }
   ],
   "source": [
    "#Modifying and deleting from python list\n",
    "#Create a list\n",
    "my_list = [1, 2, 3, 4, 5, 6]\n",
    "\n",
    "#Modify an element using indexing\n",
    "my_list[2] = 10\n",
    "print(\"After modifying using indexing:\", my_list)\n",
    "\n",
    "#Modify a range of elements using slicing\n",
    "my_list[1:4] = [20, 30, 40]\n",
    "print(\"After modifying using slicing:\", my_list)  \n",
    "\n",
    "#Delete an element using indexing\n",
    "del my_list[2]\n",
    "print(\"After deleting using indexing:\", my_list)  \n",
    "\n",
    "#Delete a range of elements using slicing\n",
    "my_list[1:4] = []\n",
    "print(\"After deleting using slicing:\", my_list) \n",
    "\n",
    "#Delete the entire list\n",
    "del my_list\n"
   ]
  },
  {
   "cell_type": "code",
   "execution_count": 75,
   "id": "c460b067-5dcf-42f3-b7c4-0b081e0daf65",
   "metadata": {},
   "outputs": [
    {
     "name": "stdout",
     "output_type": "stream",
     "text": [
      "1\n",
      "2\n",
      "3\n",
      "4\n",
      "5\n",
      "6\n",
      "index0:1\n",
      "index1:2\n",
      "index2:3\n",
      "index3:4\n",
      "index4:5\n",
      "index5:6\n",
      "6\n",
      "5\n",
      "4\n",
      "3\n",
      "2\n",
      "1\n"
     ]
    }
   ],
   "source": [
    "#Common ways to loop through a list\n",
    "my_list = [1,2,3,4,5,6]\n",
    "for item in my_list:\n",
    "    print(item)\n",
    "\n",
    "for index,item in enumerate(my_list):\n",
    "    print(f\"index{index}:{item}\")\n",
    "\n",
    "for item in reversed(my_list):\n",
    "    print(item)"
   ]
  },
  {
   "cell_type": "code",
   "execution_count": 76,
   "id": "57a19126-893d-4353-8cfb-2ad1324562e3",
   "metadata": {},
   "outputs": [
    {
     "name": "stdout",
     "output_type": "stream",
     "text": [
      "[1, 4, 9, 16, 25]\n",
      "['apel', 'jeruk', 'ceri', 'kiwi', 'mangga']\n"
     ]
    }
   ],
   "source": [
    "#List comprehension in python\n",
    "# Sample 1:\n",
    "list1=[-1,2,-3,4,5]\n",
    "list2=[x**2 for x in list1]\n",
    "print(list2)\n",
    "\n",
    "# Sample 2 (with condition):\n",
    "fruits = [\"apel\", \"pisang\", \"ceri\", \"kiwi\", \"mangga\"]\n",
    "newlist = [x if x != \"pisang\" else \"jeruk\" for x in fruits]\n",
    "print(newlist)"
   ]
  },
  {
   "cell_type": "code",
   "execution_count": 77,
   "id": "67de8383-540b-4d87-90ee-fc2927bb7a0e",
   "metadata": {},
   "outputs": [
    {
     "name": "stdout",
     "output_type": "stream",
     "text": [
      "Python\n",
      "5\n",
      "Developer\n"
     ]
    }
   ],
   "source": [
    "#Unpacking the list\n",
    "emp_info=['Python',5,'Developer']\n",
    "\n",
    "#list unpacking\n",
    "skill,exp,role=emp_info\n",
    "print(skill)\n",
    "print(exp)\n",
    "print(role)"
   ]
  },
  {
   "cell_type": "code",
   "execution_count": 79,
   "id": "a9f179cc-1cdb-4878-a0ef-eb7fcd390e90",
   "metadata": {},
   "outputs": [
    {
     "name": "stdout",
     "output_type": "stream",
     "text": [
      "User clicked the back button. Navigating to: Contact Us\n",
      "User clicked the back button. Navigating to: Blog\n"
     ]
    }
   ],
   "source": [
    "#Using lists as stacks\n",
    "# Initialize an empty stack to represent the browser history\n",
    "browser_history = []\n",
    "\n",
    "# Simulate user browsing by pushing visited pages onto the stack\n",
    "browser_history.append(\"Homepage\")\n",
    "browser_history.append(\"About Us\")\n",
    "browser_history.append(\"Products\")\n",
    "browser_history.append(\"Contact Us\")\n",
    "\n",
    "# User clicks the back button\n",
    "if len(browser_history) > 0:\n",
    "    current_page = browser_history.pop()\n",
    "    print(\"User clicked the back button. Navigating to:\", current_page)\n",
    "\n",
    "# User continues browsing and adds more pages to the history\n",
    "browser_history.append(\"FAQs\")\n",
    "browser_history.append(\"Blog\")\n",
    "\n",
    "# User clicks the back button again\n",
    "if len(browser_history) > 0:\n",
    "    current_page = browser_history.pop()\n",
    "    print(\"User clicked the back button. Navigating to:\", current_page)\n",
    "\n",
    "# At this point, the browser history would contain [\"Homepage\", \"About Us\", \"Products\", \"Contact Us\", \"FAQs\"].\n",
    "\n"
   ]
  },
  {
   "cell_type": "code",
   "execution_count": 85,
   "id": "b09d1c4a-6b72-4422-b719-504a183d9d03",
   "metadata": {},
   "outputs": [
    {
     "name": "stdout",
     "output_type": "stream",
     "text": [
      "\n",
      "Queue before:\n",
      "['Orang 1', 'Orang 2', 'Orang 3']\n",
      "\n",
      "Elements dequeued from queue: Orang 1\n",
      "\n",
      "Queue after:\n",
      "['Orang 2', 'Orang 3']\n"
     ]
    }
   ],
   "source": [
    "#Using lists as queue\n",
    "queue=['Orang 1','Orang 2']\n",
    "queue.append('Orang 3')\n",
    "print(\"\\nQueue before:\")\n",
    "print(queue)\n",
    "\n",
    "print(\"\\nElements dequeued from queue:\",queue.pop(0))\n",
    "\n",
    "print(\"\\nQueue after:\")\n",
    "print(queue)"
   ]
  },
  {
   "cell_type": "code",
   "execution_count": 10,
   "id": "9db637f7-b0ce-4f22-a1c8-21f0c7c3e331",
   "metadata": {},
   "outputs": [
    {
     "name": "stdout",
     "output_type": "stream",
     "text": [
      "3\n",
      "Hi Hi Hi Hi \n",
      "True\n",
      "1\n",
      "2\n",
      "3\n"
     ]
    }
   ],
   "source": [
    "#Basic tuples operations\n",
    "list = (1,2,3)\n",
    "print(len(list))\n",
    "print('Hi '*4)\n",
    "print(3 in (list))\n",
    "for x in (1,2,3):\n",
    "    print(x)"
   ]
  },
  {
   "cell_type": "code",
   "execution_count": 13,
   "id": "ebf68369-c764-462c-ab4e-30b6a63914c6",
   "metadata": {},
   "outputs": [
    {
     "name": "stdout",
     "output_type": "stream",
     "text": [
      "5\n",
      "2\n",
      "0\n"
     ]
    }
   ],
   "source": [
    "#Build-in Methods of Tuples\n",
    "tup=(9,6,'g','Python',7.4)\n",
    "print(len(tup))\n",
    "print(tup.index('g'))\n",
    "\n",
    "print(tup.count('a'))"
   ]
  },
  {
   "cell_type": "code",
   "execution_count": 15,
   "id": "f03d7f62-f5b6-41a6-a97b-2a6be4256230",
   "metadata": {},
   "outputs": [
    {
     "name": "stdout",
     "output_type": "stream",
     "text": [
      "Tuple y1:(1, 2, 3, 4)\n",
      "Tuple y2:(1, 2, 3, 4, 5)\n",
      "Tuple y3:(1, 2, 3, 4, 5, 6)\n"
     ]
    }
   ],
   "source": [
    "#Creating Tuples\n",
    "y1 = (1,2,3,4)\n",
    "\n",
    "#Create a tuple from a list tuple() constructor\n",
    "y2 = tuple([1,2,3,4,5])\n",
    "\n",
    "#Create a tuple using tthe tuple() constructor\n",
    "y3 = tuple([1,2,3,4,5,6])\n",
    "\n",
    "print(f\"Tuple y1:{y1}\")\n",
    "print(f\"Tuple y2:{y2}\")\n",
    "print(f\"Tuple y3:{y3}\")"
   ]
  },
  {
   "cell_type": "code",
   "execution_count": 1,
   "id": "706c69fe-e95c-4293-9c2a-be51025ea40f",
   "metadata": {},
   "outputs": [
    {
     "name": "stdout",
     "output_type": "stream",
     "text": [
      "tup1[0]: fisika\n",
      "tup2[1:5]: (2, 3, 4, 5)\n"
     ]
    }
   ],
   "source": [
    "#Accesing Values in Tuple\n",
    "tup1 = ('fisika','kimia',1990,2000);\n",
    "tup2 = (1,2,3,4,5,6,7);\n",
    "print(\"tup1[0]:\",tup1[0])\n",
    "print(\"tup2[1:5]:\",tup2[1:5])"
   ]
  },
  {
   "cell_type": "code",
   "execution_count": 2,
   "id": "4f37c31e-5698-4388-9c95-1b5bebda51e0",
   "metadata": {},
   "outputs": [
    {
     "name": "stdout",
     "output_type": "stream",
     "text": [
      "(12, 34.56, 'abc', 'xyz')\n"
     ]
    }
   ],
   "source": [
    "#Updating Tuples\n",
    "tup1 = (12,34.56);\n",
    "tup2 = ('abc','xyz');\n",
    "\n",
    "#Following action is NOT VALID for tuples\n",
    "#tup1[0]=100;\n",
    "\n",
    "#create a new tuple\n",
    "tup3=tup1 + tup2;\n",
    "print(tup3);"
   ]
  },
  {
   "cell_type": "code",
   "execution_count": 6,
   "id": "05cbe192-b97b-4da2-8ef6-37e4755324c3",
   "metadata": {},
   "outputs": [
    {
     "name": "stdout",
     "output_type": "stream",
     "text": [
      "('fisika', 'kimia', 1990, 2000)\n",
      "After deleting tup: \n"
     ]
    },
    {
     "ename": "NameError",
     "evalue": "name 'tup' is not defined",
     "output_type": "error",
     "traceback": [
      "\u001b[1;31m---------------------------------------------------------------------------\u001b[0m",
      "\u001b[1;31mNameError\u001b[0m                                 Traceback (most recent call last)",
      "Cell \u001b[1;32mIn[6], line 6\u001b[0m\n\u001b[0;32m      4\u001b[0m \u001b[38;5;28;01mdel\u001b[39;00m tup;\n\u001b[0;32m      5\u001b[0m \u001b[38;5;28mprint\u001b[39m(\u001b[38;5;124m\"\u001b[39m\u001b[38;5;124mAfter deleting tup: \u001b[39m\u001b[38;5;124m\"\u001b[39m);\n\u001b[1;32m----> 6\u001b[0m \u001b[38;5;28mprint\u001b[39m(\u001b[43mtup\u001b[49m)\n",
      "\u001b[1;31mNameError\u001b[0m: name 'tup' is not defined"
     ]
    }
   ],
   "source": [
    "#Delete Tuple Elements\n",
    "tup = ('fisika','kimia',1990,2000);\n",
    "print(tup);\n",
    "del tup;\n",
    "print(\"After deleting tup: \");\n",
    "print(tup);"
   ]
  },
  {
   "cell_type": "code",
   "execution_count": 7,
   "id": "7a2e79cd-82b4-4a6e-8143-b0889427f886",
   "metadata": {},
   "outputs": [
    {
     "data": {
      "text/plain": [
       "(1, 2, 3, 4, 6)"
      ]
     },
     "execution_count": 7,
     "metadata": {},
     "output_type": "execute_result"
    }
   ],
   "source": [
    "#Changing python tuple value by using list()\n",
    "tup=(1,2,3,4,5)\n",
    "\n",
    "list1=list(tup)\n",
    "list1[4]=6\n",
    "\n",
    "tup=tuple(list1)\n",
    "tup"
   ]
  },
  {
   "cell_type": "code",
   "execution_count": 8,
   "id": "45221107-2adc-4abd-87a6-dc6ec8523018",
   "metadata": {},
   "outputs": [
    {
     "name": "stdout",
     "output_type": "stream",
     "text": [
      "The type of  (1, 2, 3) is: <class 'tuple'>\n",
      "1\n",
      "2\n",
      "3\n"
     ]
    }
   ],
   "source": [
    "#Tuple packing and unpacking\n",
    "tup=1,2,3 #packing\n",
    "print(\"The type of \",tup,\"is:\",type(tup))\n",
    "\n",
    "a,b,c=tup #unpacking\n",
    "print(a)\n",
    "print(b)\n",
    "print(c)"
   ]
  },
  {
   "cell_type": "code",
   "execution_count": 9,
   "id": "e35ba5ff-9323-419d-844b-4b10e6a84ec3",
   "metadata": {},
   "outputs": [
    {
     "name": "stdout",
     "output_type": "stream",
     "text": [
      "o\n",
      "dict_keys([1, 2, 3, 4, 5])\n",
      "dict_values(['a', 'e', 'i', 'o', 'u'])\n",
      "dict_items([(1, 'a'), (2, 'e'), (3, 'i'), (4, 'o'), (5, 'u')])\n",
      "The value of var1 is: e\n",
      "The value of var2 is: (5, 'u')\n"
     ]
    }
   ],
   "source": [
    "#Dictionary\n",
    "\n",
    "#Built-in Methods of Dictionaries\n",
    "dict1={1:'a',2:'e',3:'i',4:'o',5:'u'}\n",
    "print(dict1.get(4))\n",
    "\n",
    "print(dict1.keys())\n",
    "\n",
    "print(dict1.values())\n",
    "\n",
    "print(dict1.items())\n",
    "\n",
    "var1=dict1.pop(2)\n",
    "print(\"The value of var1 is:\",var1)\n",
    "\n",
    "var2=dict1.popitem()\n",
    "print(\"The value of var2 is:\",var2)\n",
    "\n",
    "dict1.clear()"
   ]
  },
  {
   "cell_type": "code",
   "execution_count": 11,
   "id": "184ace09-0b8f-4d30-846f-1a905e3712ea",
   "metadata": {},
   "outputs": [
    {
     "name": "stdout",
     "output_type": "stream",
     "text": [
      "dict['Name']:  Alfath\n",
      "dict['Age']:  18\n"
     ]
    }
   ],
   "source": [
    "#Accesing Values in Dictionary\n",
    "dict = {'Name': 'Alfath', 'Age': 18, 'Class': 'First'}\n",
    "print (\"dict['Name']: \", dict['Name'])\n",
    "print (\"dict['Age']: \", dict['Age'])"
   ]
  },
  {
   "cell_type": "code",
   "execution_count": 13,
   "id": "f679f951-8aae-4b09-baac-9c7d3b953c87",
   "metadata": {},
   "outputs": [
    {
     "name": "stdout",
     "output_type": "stream",
     "text": [
      "dict['Age']:  19\n",
      "dict['School']:  IPB University\n"
     ]
    }
   ],
   "source": [
    "#Updating Dictionary\n",
    "dict = {'Name': 'Alfath', 'Age': 18, 'Class': 'First'}\n",
    "dict['Age'] = 19; #update existing entry\n",
    "dict['School'] = \"IPB University\"; #Add new entry\n",
    "\n",
    "print (\"dict['Age']: \", dict['Age'])\n",
    "print (\"dict['School']: \", dict['School'])\n"
   ]
  },
  {
   "cell_type": "code",
   "execution_count": 15,
   "id": "76b98815-cd4b-4cc8-8c89-9dee2c1e2082",
   "metadata": {},
   "outputs": [
    {
     "name": "stdout",
     "output_type": "stream",
     "text": [
      "dict['Age']:  dict['Age']\n",
      "dict['School']:  dict['School']\n"
     ]
    }
   ],
   "source": [
    "#Delete Dictionary Elements\n",
    "dict = {'Name': 'Alfath', 'Age': 18, 'Class': 'First'}\n",
    "del dict['Name']; # remove entry with key 'Name'\n",
    "dict.clear();     # remove all entries in dict\n",
    "del dict ;        # delete entire dictionary\t\n",
    "\n",
    "#an exception is raised here because after del dict dictionary does not exist any more :\n",
    "print (\"dict['Age']: \", dict['Age'])\n",
    "print (\"dict['School']: \", dict['School'])\n"
   ]
  },
  {
   "cell_type": "code",
   "execution_count": 34,
   "id": "57929540-623f-4a4f-845c-05eb47e8ea2e",
   "metadata": {},
   "outputs": [
    {
     "name": "stdout",
     "output_type": "stream",
     "text": [
      "name -> Alfath\n",
      "age -> 18\n",
      "city -> Bogor\n",
      "name -> Alfath\n",
      "age -> 18\n",
      "city -> Bogor\n",
      "name -> Alfath\n",
      "age -> 18\n",
      "city -> Bogor\n",
      "Alfath\n",
      "18\n",
      "Bogor\n"
     ]
    }
   ],
   "source": [
    "#Common Ways to Loop through a Dictionary\n",
    "# Creating a sample dictionary\n",
    "my_dict = {\"name\": \"Alfath\", \"age\": 18, \"city\": \"Bogor\"}\n",
    "\n",
    "# Method 1: Loop through keys and access values\n",
    "for key in my_dict:\n",
    "    print(key, \"->\", my_dict[key])\n",
    "\n",
    "# Method 2: Loop through keys and values using .items()\n",
    "for key, value in my_dict.items():\n",
    "    print(key, \"->\", value)\n",
    "\n",
    "# Method 3: Loop through keys using .keys() (less common)\n",
    "for key in my_dict.keys():\n",
    "    print(key, \"->\", my_dict[key])\n",
    "\n",
    "# Method 4: Loop through values using .values()\n",
    "for value in my_dict.values():\n",
    "    print(value)"
   ]
  },
  {
   "cell_type": "code",
   "execution_count": 29,
   "id": "23f65b8e-6f68-4e3b-858e-4be399cf2c8e",
   "metadata": {},
   "outputs": [
    {
     "name": "stdout",
     "output_type": "stream",
     "text": [
      "dict['Name']:  Hakkam\n"
     ]
    }
   ],
   "source": [
    "#Properties of Dictionary Keys\n",
    "dict = {'Name': 'Zara', 'Age': 7, 'Name': 'Hakkam'}\n",
    "print (\"dict['Name']: \", dict['Name'])\t# dict['Name']:  Hakkam"
   ]
  },
  {
   "cell_type": "code",
   "execution_count": 33,
   "id": "22667730-65b7-46d1-9501-9d5cffff0c2a",
   "metadata": {},
   "outputs": [
    {
     "name": "stdout",
     "output_type": "stream",
     "text": [
      "{'Tue', 'Thu', 'Sun', 'Mon', 'Fri', 'Sat', 'Wed'}\n",
      "{'Mar', 'Feb', 'Jan'}\n",
      "{17, 21, 22}\n"
     ]
    }
   ],
   "source": [
    "#Sets\n",
    "\n",
    "#Creating a set\n",
    "Days=set([\"Mon\",\"Tue\",\"Wed\",\"Thu\",\"Fri\",\"Sat\",\"Sun\"])\n",
    "Months={\"Jan\",\"Feb\",\"Mar\"}\n",
    "Dates={21,22,17}\n",
    "print(Days)\n",
    "print(Months)\n",
    "print(Dates)"
   ]
  },
  {
   "cell_type": "code",
   "execution_count": 38,
   "id": "09ebd4f7-6764-46c9-9caf-a4b17bd11466",
   "metadata": {},
   "outputs": [
    {
     "name": "stdout",
     "output_type": "stream",
     "text": [
      "Kamis\n",
      "Minggu\n",
      "Sabtu\n",
      "Rabu\n",
      "Jumat\n",
      "Senin\n",
      "Selasa\n"
     ]
    }
   ],
   "source": [
    "#Accesing Values in a Set\n",
    "Days=set([\"Minggu\",\"Senin\",\"Selasa\",\"Rabu\",\"Kamis\",\"Jumat\",\"Sabtu\"])\n",
    " \n",
    "for d in Days:\n",
    "   print(d)"
   ]
  },
  {
   "cell_type": "code",
   "execution_count": 41,
   "id": "8c600470-f923-4b92-a31e-a2bd07ed380c",
   "metadata": {},
   "outputs": [
    {
     "name": "stdout",
     "output_type": "stream",
     "text": [
      "{'Tue', 'Thu', 'Sun', 'Mon', 'Fri', 'Sat', 'Wed'}\n",
      "{'Tue', 'Thu', 'Mon', 'Fri', 'Sat', 'Wed'}\n"
     ]
    }
   ],
   "source": [
    "#Adding & Removing Items to a Set\n",
    "Days=set([\"Mon\",\"Tue\",\"Wed\",\"Thu\",\"Fri\",\"Sat\"])\n",
    " \n",
    "Days.add(\"Sun\")\n",
    "print(Days)\n",
    "\n",
    "Days=set([\"Mon\",\"Tue\",\"Wed\",\"Thu\",\"Fri\",\"Sat\"])\n",
    " \n",
    "Days.discard(\"Sun\")\n",
    "print(Days)"
   ]
  },
  {
   "cell_type": "code",
   "execution_count": 51,
   "id": "6d80cb72-d06e-4c9d-a344-7982584675f5",
   "metadata": {},
   "outputs": [
    {
     "name": "stdout",
     "output_type": "stream",
     "text": [
      "{'Tue', 'Thu', 'Sun', 'Mon', 'Fri', 'Sat', 'Wed'}\n",
      "{'Wed'}\n",
      "{'Mon', 'Tue'}\n"
     ]
    }
   ],
   "source": [
    "#Union, Intersection, and Difference\n",
    "DaysA = set([\"Mon\",\"Tue\",\"Wed\"])\n",
    "DaysB = set([\"Wed\",\"Thu\",\"Fri\",\"Sat\",\"Sun\"])\n",
    "print(DaysA|DaysB)\t\t# equals with print(DaysA.union(DaysB))\n",
    "print(DaysA & DaysB)\t# equals with print(DaysA.intersection(DaysB))\n",
    "print(DaysA - DaysB)\t\t# equals with print(DaysA.difference(DaysB))"
   ]
  },
  {
   "cell_type": "code",
   "execution_count": 56,
   "id": "7a872f8c-684d-40f1-b336-41ad7c17593b",
   "metadata": {},
   "outputs": [
    {
     "name": "stdout",
     "output_type": "stream",
     "text": [
      "{'id': 12458, 'name': 'Farhan', 'department': 'House Floor'}\n"
     ]
    }
   ],
   "source": [
    "#Choosing data structures\n",
    "\n",
    "#Using List of Tuples\n",
    "employee_list = [(12345, \"Alfath\", \"Kitchen\"), (12458, \"Farhan\", \"House Floor\")]\n",
    "\n",
    "def get_employee(id):\n",
    "    for employee in employee_list:\n",
    "        if employee[0] == id:\n",
    "            return {\"id\": employee[0], \"name\": employee[1], \"department\": employee[2]}\n",
    "\n",
    "print(get_employee(12458))"
   ]
  },
  {
   "cell_type": "code",
   "execution_count": 59,
   "id": "fff7b6c6-bf22-450b-b016-35ed9c054420",
   "metadata": {},
   "outputs": [
    {
     "name": "stdout",
     "output_type": "stream",
     "text": [
      "{'id': '12458', 'name': 'Farhan', 'department': 'House Floor'}\n"
     ]
    }
   ],
   "source": [
    "#Using Dictionary\n",
    "employee_dict = {\n",
    "    12345: {\n",
    "        \"id\": \"12345\",\n",
    "        \"name\": \"Alfath\", \n",
    "        \"department\": \"Kitchen\"    \n",
    "    },\n",
    "    12458: {\n",
    "        \"id\": \"12458\",\n",
    "        \"name\": \"Farhan\", \n",
    "        \"department\": \"House Floor\"    \n",
    "    }\n",
    "}\n",
    "\n",
    "def get_employee_from_dict(id):\n",
    "    return employee_dict[id];\n",
    "\n",
    "\n",
    "print(get_employee_from_dict(12458));"
   ]
  }
 ],
 "metadata": {
  "kernelspec": {
   "display_name": "Python 3 (ipykernel)",
   "language": "python",
   "name": "python3"
  },
  "language_info": {
   "codemirror_mode": {
    "name": "ipython",
    "version": 3
   },
   "file_extension": ".py",
   "mimetype": "text/x-python",
   "name": "python",
   "nbconvert_exporter": "python",
   "pygments_lexer": "ipython3",
   "version": "3.11.4"
  }
 },
 "nbformat": 4,
 "nbformat_minor": 5
}
