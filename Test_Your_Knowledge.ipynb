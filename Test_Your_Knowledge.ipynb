{
 "cells": [
  {
   "cell_type": "code",
   "execution_count": null,
   "id": "6550a915-9aac-4f73-87a7-c37d74fe0f1a",
   "metadata": {},
   "outputs": [],
   "source": [
    "'''\n",
    "Frizaski Al Fath - J0403231081\n",
    "TPL-B1\n",
    "\n",
    "Which built-in data structure type would be most suited for storing information that should not change? Tuples\n",
    "Which built-in data structure type that does not allow duplicate values? Sets and Dictionary\n",
    "Which built-in data structure is an ordered collection of elements, where each element can be accessed using an index? Array and List\n",
    "'''"
   ]
  }
 ],
 "metadata": {
  "kernelspec": {
   "display_name": "Python 3 (ipykernel)",
   "language": "python",
   "name": "python3"
  },
  "language_info": {
   "codemirror_mode": {
    "name": "ipython",
    "version": 3
   },
   "file_extension": ".py",
   "mimetype": "text/x-python",
   "name": "python",
   "nbconvert_exporter": "python",
   "pygments_lexer": "ipython3",
   "version": "3.11.4"
  }
 },
 "nbformat": 4,
 "nbformat_minor": 5
}
