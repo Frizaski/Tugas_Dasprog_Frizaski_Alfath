{
 "cells": [
  {
   "cell_type": "code",
   "execution_count": 4,
   "id": "d76ea473-f5c7-4a10-ad48-100831df7b80",
   "metadata": {},
   "outputs": [
    {
     "name": "stdin",
     "output_type": "stream",
     "text": [
      "Masukkan operator aritmatika ('+', '-', '*', '/'):  1\n"
     ]
    },
    {
     "name": "stdout",
     "output_type": "stream",
     "text": [
      "Masukan tidak valid. Pastikan Anda memasukkan operator yang valid dan angka numerik.\n"
     ]
    }
   ],
   "source": [
    "#J0403231081_Frizaski Al Fath\n",
    "def kalkulator():\n",
    "    \"\"\"\n",
    "    Melakukan operasi aritmatika pada angka-angka yang dimasukkan oleh pengguna.\n",
    "\n",
    "    Returns:\n",
    "    float: Hasil operasi aritmatika.\n",
    "\n",
    "    Raises:\n",
    "    ValueError: Jika operator yang tidak valid diberikan.\n",
    "    ZeroDivisionError: Jika pembagian dengan nol diizinkan.\n",
    "    \"\"\"\n",
    "\n",
    "    try:\n",
    "        operator = input(\"Masukkan operator aritmatika ('+', '-', '*', '/'): \")\n",
    "        if operator not in ('+', '-', '*', '/'):\n",
    "            raise ValueError(\"Operator tidak valid. Gunakan '+', '-', '*', atau '/'.\")\n",
    "\n",
    "        args = [float(x) for x in input(\"Masukkan angka-angka, dipisahkan dengan spasi: \").split()]\n",
    "\n",
    "        if operator == '/' and 0 in args[1:]:\n",
    "            raise ZeroDivisionError(\"Pembagian dengan nol tidak bisa.\")\n",
    "\n",
    "        if operator == '+':\n",
    "            hasil = sum(args)\n",
    "        elif operator == '-':\n",
    "            hasil = args[0] - sum(args[1:])\n",
    "        elif operator == '*':\n",
    "            hasil = 1\n",
    "            for arg in args:\n",
    "                hasil *= arg\n",
    "        elif operator == '/':\n",
    "            hasil = args[0]\n",
    "            for arg in args[1:]:\n",
    "                hasil /= arg\n",
    "\n",
    "        return hasil\n",
    "    except ValueError:\n",
    "        print(\"Masukan tidak valid. Pastikan Anda memasukkan operator yang valid dan angka numerik.\")\n",
    "    except ZeroDivisionError:\n",
    "        print(\"Pembagian dengan nol tidak boleh.\")\n",
    "\n",
    "# Contoh penggunaan\n",
    "hasil_perhitungan = kalkulator()\n",
    "if hasil_perhitungan is not None:\n",
    "    print(\"Hasil perhitungan:\", hasil_perhitungan)"
   ]
  }
 ],
 "metadata": {
  "kernelspec": {
   "display_name": "Python 3 (ipykernel)",
   "language": "python",
   "name": "python3"
  },
  "language_info": {
   "codemirror_mode": {
    "name": "ipython",
    "version": 3
   },
   "file_extension": ".py",
   "mimetype": "text/x-python",
   "name": "python",
   "nbconvert_exporter": "python",
   "pygments_lexer": "ipython3",
   "version": "3.11.4"
  }
 },
 "nbformat": 4,
 "nbformat_minor": 5
}
